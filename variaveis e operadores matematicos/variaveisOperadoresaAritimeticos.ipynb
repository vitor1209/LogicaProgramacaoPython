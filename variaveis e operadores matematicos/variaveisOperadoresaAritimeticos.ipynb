{
  "nbformat": 4,
  "nbformat_minor": 0,
  "metadata": {
    "colab": {
      "provenance": [],
      "authorship_tag": "ABX9TyNhq83JAu62jElMKs1fSFCt",
      "include_colab_link": true
    },
    "kernelspec": {
      "name": "python3",
      "display_name": "Python 3"
    },
    "language_info": {
      "name": "python"
    }
  },
  "cells": [
    {
      "cell_type": "markdown",
      "metadata": {
        "id": "view-in-github",
        "colab_type": "text"
      },
      "source": [
        "<a href=\"https://colab.research.google.com/github/vitor1209/LogicaProgramacaoPython/blob/main/variaveis%20e%20operadores%20matematicos/variaveisOperadoresaAritimeticos.ipynb\" target=\"_parent\"><img src=\"https://colab.research.google.com/assets/colab-badge.svg\" alt=\"Open In Colab\"/></a>"
      ]
    },
    {
      "cell_type": "markdown",
      "source": [
        "# Criando Variaveis"
      ],
      "metadata": {
        "id": "pN71aeVjBeiE"
      }
    },
    {
      "cell_type": "markdown",
      "source": [
        "### Área quadrado"
      ],
      "metadata": {
        "id": "wSh3yqurKB6t"
      }
    },
    {
      "cell_type": "code",
      "execution_count": null,
      "metadata": {
        "colab": {
          "base_uri": "https://localhost:8080/"
        },
        "id": "zbeGgImjBDjf",
        "outputId": "bcb12fbb-a51c-4b60-cb20-48c4b02f448d"
      },
      "outputs": [
        {
          "output_type": "stream",
          "name": "stdout",
          "text": [
            "Qual é o tamanho do lado de seu quadrado: 5\n",
            "Digite a unide de medida do seu quadrado, ex: mm, cm, m, hm e etc.  cm\n",
            "A área do quadrado é:  25.0 cm\n"
          ]
        }
      ],
      "source": [
        "# entrada\n",
        "ladoQ= float(input(\"Qual é o tamanho do lado de seu quadrado: \"));\n",
        "tam = input(\"Digite a unide de medida do seu quadrado, ex: mm, cm, m, hm e etc.  \");\n",
        "# processamento\n",
        "areaQ = ladoQ*ladoQ;\n",
        "# saida\n",
        "print(\"A área do quadrado é: \", areaQ , tam);"
      ]
    },
    {
      "cell_type": "markdown",
      "source": [
        "### Área *retangulo*"
      ],
      "metadata": {
        "id": "UAIomTVuK6i1"
      }
    },
    {
      "cell_type": "code",
      "source": [
        "# entrada\n",
        "baseR= float(input(\"Qual é o tamanho da base do seu retangulo: \"));\n",
        "altR= float(input(\"Qual é o tamanho da altura do seu retangulo: \"));\n",
        "tam = input(\"Digite a unide de medida do seu quadrado, ex: mm, cm, m, hm e etc.  \");\n",
        "# processamento\n",
        "areaR = baseR*altR ;\n",
        "# saida\n",
        "print(\"A área do retangulo é: \", areaR ,tam);"
      ],
      "metadata": {
        "colab": {
          "base_uri": "https://localhost:8080/"
        },
        "id": "QFgdgy5SLDHO",
        "outputId": "a0254174-a318-48b6-d3a2-bbeccee0c670"
      },
      "execution_count": null,
      "outputs": [
        {
          "output_type": "stream",
          "name": "stdout",
          "text": [
            "Qual é o tamanho da base do seu retangulo: 3\n",
            "Qual é o tamanho da altura do seu retangulo: 2\n",
            "A área do retangulo é:  6.0\n"
          ]
        }
      ]
    },
    {
      "cell_type": "markdown",
      "source": [
        "### Área triangulo"
      ],
      "metadata": {
        "id": "qaBcGafUKQIE"
      }
    },
    {
      "cell_type": "code",
      "source": [
        "# entrada\n",
        "baseT= float(input(\"Qual é o tamanho da base do seu triangulo: \"));\n",
        "altT= float(input(\"Qual é o tamanho da altura do seu triangulo: \"));\n",
        "tam = input(\"Digite a unide de medida do seu quadrado, ex: mm, cm, m, hm e etc.  \");\n",
        "# processamento\n",
        "areaT = baseT*altT / 2;\n",
        "# saida\n",
        "print(\"A área do triangulo é: \", areaT , tam);"
      ],
      "metadata": {
        "colab": {
          "base_uri": "https://localhost:8080/"
        },
        "id": "IfdWgngdKUwP",
        "outputId": "7133926a-3aa0-44d9-d977-c08d71d0a32e"
      },
      "execution_count": null,
      "outputs": [
        {
          "output_type": "stream",
          "name": "stdout",
          "text": [
            "Qual é o tamanho da base do seu triangulo: 5\n",
            "Qual é o tamanho da altura do seu triangulo: 9\n",
            "A área do quadrado é:  22.5\n"
          ]
        }
      ]
    },
    {
      "cell_type": "markdown",
      "source": [
        "### Área *trapezio*"
      ],
      "metadata": {
        "id": "S0iUfTTtLcqh"
      }
    },
    {
      "cell_type": "code",
      "source": [
        "# entrada\n",
        "baseMaTra= float(input(\"Qual é o tamanho da base maior do seu trapezio: \"));\n",
        "baseMeTra= float(input(\"Qual é o tamanho da base menor do seu trapezio: \"));\n",
        "altTra= float(input(\"Qual é o tamanho da altura do seu trapezio: \"));\n",
        "tam = input(\"Digite a unide de medida do seu quadrado, ex: mm, cm, m, hm e etc.  \");\n",
        "# processamento\n",
        "areaTRA =(baseMaTra+baseMeTra) * altTra / 2;\n",
        "# saida\n",
        "print(\"A área do trapezio é: \", areaTRA , tam);"
      ],
      "metadata": {
        "colab": {
          "base_uri": "https://localhost:8080/"
        },
        "id": "0T5tSspuLthv",
        "outputId": "ebff1d7d-dca0-4186-fd5d-15d6c839c0ad"
      },
      "execution_count": null,
      "outputs": [
        {
          "output_type": "stream",
          "name": "stdout",
          "text": [
            "Qual é o tamanho da base maior do seu trapezio: 6\n",
            "Qual é o tamanho da base menor do seu trapezio: 4\n",
            "Qual é o tamanho da altura do seu trapezio: 2\n",
            "Digite a unide de medida do seu quadrado, ex: mm, cm, m, hm e etc.  m\n",
            "A área do trapezio é:  10.0 m\n"
          ]
        }
      ]
    },
    {
      "cell_type": "markdown",
      "source": [
        "### Calcucular numero de azulejos"
      ],
      "metadata": {
        "id": "6DbCSZgxQ3rr"
      }
    },
    {
      "cell_type": "code",
      "source": [
        "# entrada\n",
        "altPa= float(input(\"Qual é o tamanho da altura da sua parede: \"));\n",
        "LargPa= float(input(\"Qual é o tamanho da largura da sua parede: \"));\n",
        "\n",
        "# processamento\n",
        "areaPa = altPa * LargPa;\n",
        "\n",
        "# saida\n",
        "print(\"A área da sua parede é: \", areaPa , \"metros\");\n",
        "\n",
        "\n",
        "# entrada\n",
        "altAz= float(input(\"Qual é o tamanho da altura do seu azulejo: \"));\n",
        "LargAz= float(input(\"Qual é o tamanho da largura do seu azulejo: \"));\n",
        "\n",
        "# processamento\n",
        "areaAz = altAz * LargAz;\n",
        "\n",
        "# saida\n",
        "print(\"A área da sua parede é: \", areaAz , \"centimetros\");\n",
        "\n",
        "\n",
        "\n",
        "# processamento\n",
        "areaAzMetro = areaAz / 100 ;\n",
        "\n",
        "quantAz = areaPa / areaAzMetro\n",
        "\n",
        "# saida\n",
        "print(\"Você vai necessitar de: \" , quantAz);"
      ],
      "metadata": {
        "colab": {
          "base_uri": "https://localhost:8080/"
        },
        "id": "H_qOLpjrRBQk",
        "outputId": "82b2e704-8d63-4a24-bb7c-0648de91e55e"
      },
      "execution_count": null,
      "outputs": [
        {
          "output_type": "stream",
          "name": "stdout",
          "text": [
            "Qual é o tamanho da altura da sua parede: 4\n",
            "Qual é o tamanho da largura da sua parede: 6\n",
            "A área da sua parede é:  24.0 metros\n",
            "Qual é o tamanho da altura do seu azulejo: 4\n",
            "Qual é o tamanho da largura do seu azulejo: 3\n",
            "A área da sua parede é:  12.0 centimetros\n",
            "Você vai necessitar de:  200.0\n"
          ]
        }
      ]
    }
  ]
}