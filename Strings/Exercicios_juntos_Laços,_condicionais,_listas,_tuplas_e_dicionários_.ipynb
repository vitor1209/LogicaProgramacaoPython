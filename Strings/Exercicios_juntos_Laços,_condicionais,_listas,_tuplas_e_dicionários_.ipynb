{
  "nbformat": 4,
  "nbformat_minor": 0,
  "metadata": {
    "colab": {
      "provenance": [],
      "include_colab_link": true
    },
    "kernelspec": {
      "name": "python3",
      "display_name": "Python 3"
    },
    "language_info": {
      "name": "python"
    }
  },
  "cells": [
    {
      "cell_type": "markdown",
      "metadata": {
        "id": "view-in-github",
        "colab_type": "text"
      },
      "source": [
        "<a href=\"https://colab.research.google.com/github/vitor1209/LogicaProgramacaoPython/blob/main/Strings/Exercicios_juntos_La%C3%A7os%2C_condicionais%2C_listas%2C_tuplas_e_dicion%C3%A1rios_.ipynb\" target=\"_parent\"><img src=\"https://colab.research.google.com/assets/colab-badge.svg\" alt=\"Open In Colab\"/></a>"
      ]
    },
    {
      "cell_type": "markdown",
      "source": [
        "Lista de Exercícios unindo tudo que foi ensinado até o momento:\n",
        "\n",
        "\n",
        "*   Condicionais\n",
        "*   Laços de Reptição\n",
        "*   Listas\n",
        "*   Tuplas\n",
        "*   Dicionários\n",
        "*   Manipulação de Strings\n",
        "\n",
        "\n",
        "\n",
        "\n",
        "\n"
      ],
      "metadata": {
        "id": "JsFcwNObBRcd"
      }
    },
    {
      "cell_type": "markdown",
      "source": [
        "# Tuplas - Acesso e Desempacotamento\n",
        "\n",
        "1) Crie uma tupla contendo três tipos diferentes de dados: um número, uma string e uma lista. Use um laço de repetição para acessar e imprimir cada item da tupla. Além disso, dentro do laço, acesse e imprima o segundo item da lista que está dentro da tupla."
      ],
      "metadata": {
        "id": "HM91bKpkBqGI"
      }
    },
    {
      "cell_type": "code",
      "source": [
        "dados = (24, \"Cíntia\",[1,2,3])\n",
        "\n",
        "for i in dados:\n",
        "  print(i)\n",
        "dados[2][1]"
      ],
      "metadata": {
        "colab": {
          "base_uri": "https://localhost:8080/"
        },
        "id": "sCbCOqPVYeRv",
        "outputId": "2a5d6b2d-5043-4938-c331-4751ded22175"
      },
      "execution_count": null,
      "outputs": [
        {
          "output_type": "stream",
          "name": "stdout",
          "text": [
            "24\n",
            "Cíntia\n",
            "[1, 2, 3]\n"
          ]
        },
        {
          "output_type": "execute_result",
          "data": {
            "text/plain": [
              "2"
            ]
          },
          "metadata": {},
          "execution_count": 7
        }
      ]
    },
    {
      "cell_type": "markdown",
      "source": [
        "# Dicionários - Criação e Acesso\n",
        "## Cadastro de Pessoas e Análise de Alturas\n",
        "2) Solicite ao usuário para inserir o nome e a altura de várias pessoas. Preencha um dicionário com essas informações e depois encontre e imprima o nome e a altura da pessoa mais alta e da mais baixa."
      ],
      "metadata": {
        "id": "6vEHxGtjBxMi"
      }
    },
    {
      "cell_type": "code",
      "source": [
        "pessoa  = {}\n",
        "\n",
        "alturmin = 9999999999999999999\n",
        "alturmax = 0\n",
        "escolha = 0\n",
        "while escolha != 2:\n",
        "  print(\"Escolha uma das opções abaixo: \")\n",
        "  print()\n",
        "  print(\"1. Cadastrar nova pessoa\")\n",
        "  print(\"2. Sair e ver o resultato\")\n",
        "  escolha = int(input())\n",
        "  print()\n",
        "\n",
        "  if escolha == 1:\n",
        "    nome = str(input(\"Qual o nome da pessoa: \"))\n",
        "    altura = float(input(\"Qual a altura dea pessoa: \"))\n",
        "    pessoa[nome] = altura\n",
        "\n",
        "    if altura > alturmax:\n",
        "      alturmax = altura\n",
        "      nomeMaior = nome\n",
        "\n",
        "    if altura < alturmin:\n",
        "      alturmin = altura\n",
        "      nomeMenor = nome\n",
        "\n",
        "print(\"A pessoa mais alta é {} com {:.2f}cm\".format(nomeMaior, alturmax))\n",
        "print()\n",
        "print(\"A pessoa baixa alta é {} com {:.2f}cm\".format(nomeMenor, alturmin))"
      ],
      "metadata": {
        "id": "MpJYauvTZR69",
        "colab": {
          "base_uri": "https://localhost:8080/"
        },
        "outputId": "bc9a1e77-43b5-4966-abce-604802e9db3f"
      },
      "execution_count": 15,
      "outputs": [
        {
          "output_type": "stream",
          "name": "stdout",
          "text": [
            "Escolha uma das opções abaixo: \n",
            "\n",
            "1. Cadastrar nova pessoa\n",
            "2. Sair e ver o resultato\n",
            "1\n",
            "\n",
            "Qual o nome da pessoa: vitor\n",
            "Qual a altura dea pessoa: 179\n",
            "Escolha uma das opções abaixo: \n",
            "\n",
            "1. Cadastrar nova pessoa\n",
            "2. Sair e ver o resultato\n",
            "1\n",
            "\n",
            "Qual o nome da pessoa: joao\n",
            "Qual a altura dea pessoa: 167\n",
            "Escolha uma das opções abaixo: \n",
            "\n",
            "1. Cadastrar nova pessoa\n",
            "2. Sair e ver o resultato\n",
            "1\n",
            "\n",
            "Qual o nome da pessoa: ana\n",
            "Qual a altura dea pessoa: 153\n",
            "Escolha uma das opções abaixo: \n",
            "\n",
            "1. Cadastrar nova pessoa\n",
            "2. Sair e ver o resultato\n",
            "1\n",
            "\n",
            "Qual o nome da pessoa: igor\n",
            "Qual a altura dea pessoa: 201\n",
            "Escolha uma das opções abaixo: \n",
            "\n",
            "1. Cadastrar nova pessoa\n",
            "2. Sair e ver o resultato\n",
            "2\n",
            "\n",
            "A pessoa mais alta é igor com 201.00cm\n",
            "\n",
            "A pessoa baixa alta é ana com 153.00cm\n"
          ]
        }
      ]
    },
    {
      "cell_type": "code",
      "source": [
        "pessoa"
      ],
      "metadata": {
        "colab": {
          "base_uri": "https://localhost:8080/"
        },
        "id": "V-d9-II07LrF",
        "outputId": "95ab6bf7-4981-4053-dd41-4b50f94d5fa1"
      },
      "execution_count": 16,
      "outputs": [
        {
          "output_type": "execute_result",
          "data": {
            "text/plain": [
              "{'vitor': 179.0, 'joao': 167.0, 'ana': 153.0, 'igor': 201.0}"
            ]
          },
          "metadata": {},
          "execution_count": 16
        }
      ]
    },
    {
      "cell_type": "markdown",
      "source": [
        "# Lista, laços e Condicionais\n",
        "3) Descrição: Crie uma listacom cinco números inteiros. Use um laço de repetição e uma condicional para imprimir apenas os números que são múltiplos de 3."
      ],
      "metadata": {
        "id": "FytD4QZyELAt"
      }
    },
    {
      "cell_type": "code",
      "source": [
        "numeros = [ 21 , 54 , 374 , 523, 94]\n",
        "\n",
        "for i in numeros :\n",
        "  if i % 3 == 0:\n",
        "     print( i )"
      ],
      "metadata": {
        "colab": {
          "base_uri": "https://localhost:8080/"
        },
        "id": "_oWpNw5HhPHQ",
        "outputId": "52ceb51c-b17e-4009-ce5a-66ed103c0be5"
      },
      "execution_count": null,
      "outputs": [
        {
          "output_type": "stream",
          "name": "stdout",
          "text": [
            "21\n",
            "54\n"
          ]
        }
      ]
    },
    {
      "cell_type": "markdown",
      "source": [
        "# Manipulação de Strings e Condicionais\n",
        "4) Descrição: Crie uma string com uma frase. Use uma condicional para verificar se a frase contém a palavra \"Python\". Se sim, substitua a palavra \"Python\" por \"programação\" e imprima a nova frase."
      ],
      "metadata": {
        "id": "hwn3Fz8aEYSH"
      }
    },
    {
      "cell_type": "code",
      "source": [
        "frase = str(input(\"Qual sua frase: \"))\n",
        "if frase.count(\"Python\") >0 :\n",
        "  print(\"Ou melhor: \" + frase.replace(\"Python\" ,  \"programação\"))"
      ],
      "metadata": {
        "colab": {
          "base_uri": "https://localhost:8080/"
        },
        "id": "hbPFQim5hv0o",
        "outputId": "cd54d9c9-c6b5-488a-c906-4544af221fd6"
      },
      "execution_count": null,
      "outputs": [
        {
          "output_type": "stream",
          "name": "stdout",
          "text": [
            "Qual sua frase: eu gosto de Python\n",
            "Ou melhor: eu gosto de programação\n"
          ]
        }
      ]
    },
    {
      "cell_type": "markdown",
      "source": [
        "# Simulação de Alfândega com Cadastro Dinâmico de Itens usando dicionário\n",
        "5) Simule uma situação de alfândega onde o funcionário cadastra itens novos encontrados na mala de uma pessoa que veio de uma viagem internacional. Após o cadastro de todos os itens, o programa imprime uma nota com todos os itens e seus preços, calcula o valor total e, se o valor total ultrapassar 500 dólares, calcula o valor de 60% a ser pago."
      ],
      "metadata": {
        "id": "hPP-JNTxEwFT"
      }
    },
    {
      "cell_type": "code",
      "source": [
        "print(\"alfândega\".center(100, '-').upper())\n",
        "print()\n",
        "\n",
        "itens = {}\n",
        "pagar = 0\n",
        "\n",
        "escolha = 0\n",
        "while escolha != 2:\n",
        "  print(\"Escolha uma das opções abaixo: \")\n",
        "  print()\n",
        "  print(\"1. Cadastrar novo produto\")\n",
        "  print(\"2. Sair e ver o valor a pagar\")\n",
        "  escolha = int(input())\n",
        "  print()\n",
        "\n",
        "  if escolha == 1:\n",
        "    produto = str(input(\"Qual o nome do produto: \"))\n",
        "    valor = float(input(\"Qual o valor do produto: \"))\n",
        "    itens[produto] = valor\n",
        "\n",
        "for i in itens:\n",
        "    pagar = pagar + itens[i]\n",
        "if pagar >= 500 :\n",
        "  pagar = pagar * 0.6\n",
        "\n",
        "print(\"nota fiscal\".center(100, '-').upper())\n",
        "print()\n",
        "for i in itens.keys():\n",
        "    print(f'Produto: {i}, Valor: R${itens[i]:.2f}')\n",
        "print(\"a pagar:\".center(100, '-').upper())\n",
        "print()\n",
        "print(f\"o valor total a ser pagar é: R${pagar:.2f}\")\n",
        "print()"
      ],
      "metadata": {
        "id": "iGsZcPRmizLf",
        "colab": {
          "base_uri": "https://localhost:8080/"
        },
        "outputId": "38f2027a-cf82-4a20-89a5-c46bedf56923"
      },
      "execution_count": 39,
      "outputs": [
        {
          "output_type": "stream",
          "name": "stdout",
          "text": [
            "---------------------------------------------ALFÂNDEGA----------------------------------------------\n",
            "\n",
            "Escolha uma das opções abaixo: \n",
            "\n",
            "1. Cadastrar novo produto\n",
            "2. Sair e ver o valor a pagar\n",
            "1\n",
            "\n",
            "Qual o nome do produto: 7belo\n",
            "Qual o valor do produto: 2\n",
            "Escolha uma das opções abaixo: \n",
            "\n",
            "1. Cadastrar novo produto\n",
            "2. Sair e ver o valor a pagar\n",
            "1\n",
            "\n",
            "Qual o nome do produto: iphone\n",
            "Qual o valor do produto: 4795\n",
            "Escolha uma das opções abaixo: \n",
            "\n",
            "1. Cadastrar novo produto\n",
            "2. Sair e ver o valor a pagar\n",
            "1\n",
            "\n",
            "Qual o nome do produto: camera digital\n",
            "Qual o valor do produto: 1865\n",
            "Escolha uma das opções abaixo: \n",
            "\n",
            "1. Cadastrar novo produto\n",
            "2. Sair e ver o valor a pagar\n",
            "1\n",
            "\n",
            "Qual o nome do produto: ipod\n",
            "Qual o valor do produto: 243\n",
            "Escolha uma das opções abaixo: \n",
            "\n",
            "1. Cadastrar novo produto\n",
            "2. Sair e ver o valor a pagar\n",
            "1\n",
            "\n",
            "Qual o nome do produto: lente canon\n",
            "Qual o valor do produto: 1119\n",
            "Escolha uma das opções abaixo: \n",
            "\n",
            "1. Cadastrar novo produto\n",
            "2. Sair e ver o valor a pagar\n",
            "2\n",
            "\n",
            "--------------------------------------------NOTA FISCAL---------------------------------------------\n",
            "\n",
            "Produto: 7belo, Valor: R$2.00\n",
            "Produto: iphone, Valor: R$4795.00\n",
            "Produto: camera digital, Valor: R$1865.00\n",
            "Produto: ipod, Valor: R$243.00\n",
            "Produto: lente canon, Valor: R$1119.00\n",
            "----------------------------------------------A PAGAR:----------------------------------------------\n",
            "\n",
            "o valor total a ser pagar é: R$4814.40\n",
            "\n"
          ]
        }
      ]
    },
    {
      "cell_type": "markdown",
      "source": [
        "# Identificação de Palavras Negativas em um Texto\n",
        "6) Você vai criar um programa em Python para analisar um texto e identificar palavras que expressam pensamentos negativos. Para isso, você usará uma lista de palavras negativas fornecida e verificará quais dessas palavras estão presentes no texto fornecido pelo usuário. Exemplo de palavras negtivas, acrescente mais na lista: # Lista de palavras negativas palavras_negativas = ['triste', 'deprimido', 'ansioso', 'desapontado', 'frustrado']"
      ],
      "metadata": {
        "id": "OH8D047zVsp-"
      }
    },
    {
      "cell_type": "code",
      "source": [
        "palavras_negativas = [\n",
        "    \"ruim\",\n",
        "    \"terrível\",\n",
        "    \"horrível\",\n",
        "    \"péssimo\",\n",
        "    \"desagradável\",\n",
        "    \"decepcionante\",\n",
        "    \"desastroso\",\n",
        "    \"desolador\",\n",
        "    \"inaceitável\",\n",
        "    \"negativo\",\n",
        "    \"injusto\",\n",
        "    \"desanimador\",\n",
        "    \"infeliz\",\n",
        "    \"desesperador\",\n",
        "    \"catastrófico\",\n",
        "    'triste',\n",
        "    'deprimido',\n",
        "    'ansioso',\n",
        "    'desapontado'\n",
        "]\n",
        "pensamento = str(input(\"Como você está se sentindo: \"))\n",
        "\n",
        "for i in palavras_negativas:\n",
        "  if pensamento.count(i) > 0:\n",
        "    estaMal = True\n",
        "\n",
        "if estaMal == True:\n",
        "   print('cauma você está se sentindo mal')"
      ],
      "metadata": {
        "colab": {
          "base_uri": "https://localhost:8080/"
        },
        "id": "_3Tg-ZgVjH7H",
        "outputId": "fb8ad3ce-3634-42e1-a218-f38799ae9e4a"
      },
      "execution_count": null,
      "outputs": [
        {
          "output_type": "stream",
          "name": "stdout",
          "text": [
            "Como você está se sentindo: eu fico péssimo no frio\n",
            "cauma você está se sentindo mal\n"
          ]
        }
      ]
    }
  ]
}